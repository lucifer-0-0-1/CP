{
 "cells": [
  {
   "cell_type": "code",
   "execution_count": 2,
   "metadata": {},
   "outputs": [
    {
     "name": "stdout",
     "output_type": "stream",
     "text": [
      "20\n"
     ]
    }
   ],
   "source": [
    "x = 10\n",
    "x += 5 * 2\n",
    "print(x)"
   ]
  },
  {
   "cell_type": "code",
   "execution_count": 14,
   "metadata": {},
   "outputs": [],
   "source": [
    "hell = {()}"
   ]
  },
  {
   "cell_type": "code",
   "execution_count": 6,
   "metadata": {},
   "outputs": [
    {
     "name": "stdout",
     "output_type": "stream",
     "text": [
      "30\n"
     ]
    }
   ],
   "source": [
    "def double_output(func):\n",
    "    def wrapper(*args, **kwargs):\n",
    "        result = func(*args, **kwargs)\n",
    "        return result * 2\n",
    "    return wrapper\n",
    "\n",
    "@double_output\n",
    "def add_five(x):\n",
    "    return x + 5\n",
    "\n",
    "print(add_five(10))"
   ]
  },
  {
   "cell_type": "code",
   "execution_count": 7,
   "metadata": {},
   "outputs": [
    {
     "name": "stdout",
     "output_type": "stream",
     "text": [
      "Resistance = 5.0\n",
      "Current = 2.0\n",
      "Voltage = 10\n",
      "Error: All parameters are provided\n",
      "Error: Two parameters cannot be None\n"
     ]
    }
   ],
   "source": [
    "def calculate_missing_parameter(V=None, I=None, R=None):\n",
    "    # Count the number of None parameters\n",
    "    none_count = sum(param is None for param in [V, I, R])\n",
    "    \n",
    "    # Check if all parameters are provided\n",
    "    if none_count == 0:\n",
    "        return \"Error: All parameters are provided\"\n",
    "    \n",
    "    # Check types and calculate the missing parameter\n",
    "    if V is None:\n",
    "        if I is None or R is None:\n",
    "            return \"Error: Two parameters cannot be None\"\n",
    "        if not isinstance(I, (int, float)):\n",
    "            return \"Error: Invalid type for current\"\n",
    "        if not isinstance(R, (int, float)):\n",
    "            return \"Error: Invalid type for resistance\"\n",
    "        # Calculate voltage\n",
    "        V = I * R\n",
    "        return f\"Voltage = {round(V, 1)}\"\n",
    "    \n",
    "    elif I is None:\n",
    "        if V is None or R is None:\n",
    "            return \"Error: Two parameters cannot be None\"\n",
    "        if not isinstance(V, (int, float)):\n",
    "            return \"Error: Invalid type for voltage\"\n",
    "        if not isinstance(R, (int, float)):\n",
    "            return \"Error: Invalid type for resistance\"\n",
    "        # Calculate current\n",
    "        if R == 0:\n",
    "            return \"Error: Resistance cannot be zero\"\n",
    "        I = V / R\n",
    "        return f\"Current = {round(I, 1)}\"\n",
    "    \n",
    "    elif R is None:\n",
    "        if V is None or I is None:\n",
    "            return \"Error: Two parameters cannot be None\"\n",
    "        if not isinstance(V, (int, float)):\n",
    "            return \"Error: Invalid type for voltage\"\n",
    "        if not isinstance(I, (int, float)):\n",
    "            return \"Error: Invalid type for current\"\n",
    "        # Calculate resistance\n",
    "        if I == 0:\n",
    "            return \"Error: Current cannot be zero\"\n",
    "        R = V / I\n",
    "        return f\"Resistance = {round(R, 1)}\"\n",
    "    \n",
    "    # If we reach here, it means none of the above conditions were met\n",
    "    return \"Error: All parameters are provided\"\n",
    "\n",
    "# Example usage\n",
    "print(calculate_missing_parameter(V=10, I=2))  # Should calculate and return resistance\n",
    "print(calculate_missing_parameter(V=10, R=5))  # Should calculate and return current\n",
    "print(calculate_missing_parameter(I=2, R=5))   # Should calculate and return voltage\n",
    "print(calculate_missing_parameter(V=10, I=2, R=5))  # Should return error: all parameters are provided\n",
    "print(calculate_missing_parameter(V=None, I=None, R=5))  # Should return error: two parameters cannot be None\n"
   ]
  },
  {
   "cell_type": "code",
   "execution_count": 31,
   "metadata": {},
   "outputs": [
    {
     "name": "stdout",
     "output_type": "stream",
     "text": [
      "[2, 3, 0, 5, 0, 7, 0, 0, 0, 11, 0, 13, 0, 0, 0, 17, 0, 19, 0, 0, 0, 23, 0, 0, 0, 0, 0, 29, 0, 31, 0, 0, 0, 0, 0, 37, 0, 0, 0, 41, 0, 43, 0, 0, 0, 47, 0, 0, 0, 0, 0, 53, 0, 0, 0, 0, 0, 59, 0, 61, 0, 0, 0, 0, 0, 67, 0, 0, 0, 71, 0, 73, 0, 0, 0, 0, 0, 79, 0, 0, 0, 83, 0, 0, 0, 0, 0, 89, 0, 0, 0, 0, 0, 0, 0, 97, 0, 0, 0]\n",
      "0.0\n"
     ]
    },
    {
     "data": {
      "text/plain": [
       "'star1 = time.time()\\ncheck(10000)\\nend1 = time.time()\\nprint((end1 - star1)*1000)'"
      ]
     },
     "execution_count": 31,
     "metadata": {},
     "output_type": "execute_result"
    }
   ],
   "source": [
    "import math\n",
    "import time\n",
    "from sympy import isprime\n",
    "def check(n):\n",
    "    for i in range(n+1):\n",
    "        if isprime(i):\n",
    "            print(i)\n",
    "def sieve(n):\n",
    "    l = list(range(n+1))\n",
    "    prime = [True for i in l]\n",
    "    p = 2\n",
    "    while(p < math.sqrt(n)):\n",
    "        if prime[p] == True:\n",
    "            for i in range (p*p, n+1, p):\n",
    "                prime[i] = False\n",
    "        p+=1\n",
    "    \n",
    "    ans = []\n",
    "    for p in range(2, n+1):\n",
    "        if prime[p]:\n",
    "            ans.append(p)\n",
    "        else:\n",
    "            ans.append(0)\n",
    "            \n",
    "    return ans\n",
    "\n",
    "start = time.time()\n",
    "print(sieve(100))\n",
    "end = time.time()\n",
    "print((end-start)*1000)\n",
    "\"\"\"star1 = time.time()\n",
    "check(10000)\n",
    "end1 = time.time()\n",
    "print((end1 - star1)*1000)\"\"\""
   ]
  },
  {
   "cell_type": "code",
   "execution_count": 29,
   "metadata": {},
   "outputs": [
    {
     "name": "stdout",
     "output_type": "stream",
     "text": [
      "2\n",
      "3\n",
      "5\n",
      "7\n",
      "11\n",
      "13\n",
      "17\n",
      "19\n",
      "23\n",
      "29\n",
      "31\n",
      "37\n",
      "41\n",
      "43\n",
      "47\n",
      "53\n",
      "59\n",
      "61\n",
      "67\n",
      "71\n",
      "73\n",
      "79\n",
      "83\n",
      "89\n",
      "97\n",
      "0.0\n"
     ]
    }
   ],
   "source": [
    "def is_prime_recursive(num, i=None):\n",
    "    # Initialize the divisor to num - 1 on the first call\n",
    "    if i is None:\n",
    "        i = num - 1\n",
    "\n",
    "    # Base case: if i reaches 1, the number is prime\n",
    "    if i == 1:\n",
    "        return True\n",
    "\n",
    "    # If num is divisible by any number other than 1 and itself, it's not prime\n",
    "    if num % i == 0:\n",
    "        return False\n",
    "\n",
    "    # Recursive call: check for the next smaller divisor\n",
    "    return is_prime_recursive(num, i - 1)\n",
    "n = 100\n",
    "start = time.time()\n",
    "for k in range(2, n+1):\n",
    "    if is_prime_recursive(k, i=None):\n",
    "        print(k)\n",
    "end = time.time()\n",
    "print(end - start)"
   ]
  },
  {
   "cell_type": "code",
   "execution_count": 36,
   "metadata": {},
   "outputs": [
    {
     "data": {
      "text/plain": [
       "<matplotlib.collections.PathCollection at 0x1a030b258d0>"
      ]
     },
     "execution_count": 36,
     "metadata": {},
     "output_type": "execute_result"
    },
    {
     "data": {
      "image/png": "[encoded data removed]",
      "text/plain": [
       "<Figure size 640x480 with 1 Axes>"
      ]
     },
     "metadata": {},
     "output_type": "display_data"
    }
   ],
   "source": [
    "result = sieve(1000)\n",
    "x=[]\n",
    "for i in range(len(result)):\n",
    "    x.append(i)\n",
    "import matplotlib.pyplot as plt\n",
    "plt.scatter(result,x)"
   ]
  },
  {
   "cell_type": "code",
   "execution_count": 37,
   "metadata": {},
   "outputs": [
    {
     "ename": "ModuleNotFoundError",
     "evalue": "No module named 'plotly'",
     "output_type": "error",
     "traceback": [
      "\u001b[1;31m---------------------------------------------------------------------------\u001b[0m",
      "\u001b[1;31mModuleNotFoundError\u001b[0m                       Traceback (most recent call last)",
      "Cell \u001b[1;32mIn[37], line 1\u001b[0m\n\u001b[1;32m----> 1\u001b[0m \u001b[38;5;28;01mimport\u001b[39;00m \u001b[38;5;21;01mplotly\u001b[39;00m\u001b[38;5;21;01m.\u001b[39;00m\u001b[38;5;21;01mgraph_objects\u001b[39;00m \u001b[38;5;28;01mas\u001b[39;00m \u001b[38;5;21;01mgo\u001b[39;00m\n\u001b[0;32m      2\u001b[0m result \u001b[38;5;241m=\u001b[39m sieve(\u001b[38;5;241m1000\u001b[39m)\n\u001b[0;32m      3\u001b[0m x\u001b[38;5;241m=\u001b[39m[]\n",
      "\u001b[1;31mModuleNotFoundError\u001b[0m: No module named 'plotly'"
     ]
    }
   ],
   "source": [
    "import plotly.graph_objects as go\n",
    "result = sieve(1000)\n",
    "x=[]\n",
    "for i in range(len(result)):\n",
    "    x.append(i)\n",
    "fig = go.Figure(data=go.Scatter(x=x, y=result, mode='lines+markers'))\n",
    "fig.show()"
   ]
  },
  {
   "cell_type": "code",
   "execution_count": null,
   "metadata": {},
   "outputs": [],
   "source": []
  }
 ],
 "metadata": {
  "kernelspec": {
   "display_name": "Python 3",
   "language": "python",
   "name": "python3"
  },
  "language_info": {
   "codemirror_mode": {
    "name": "ipython",
    "version": 3
   },
   "file_extension": ".py",
   "mimetype": "text/x-python",
   "name": "python",
   "nbconvert_exporter": "python",
   "pygments_lexer": "ipython3",
   "version": "3.11.9"
  }
 },
 "nbformat": 4,
 "nbformat_minor": 2
}
